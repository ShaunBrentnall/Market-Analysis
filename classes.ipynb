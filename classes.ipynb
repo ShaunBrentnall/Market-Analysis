{
 "cells": [
  {
   "cell_type": "code",
   "execution_count": 22,
   "id": "7e0180b3-bd1c-4839-9ace-a44e282bd9c6",
   "metadata": {},
   "outputs": [],
   "source": [
    "%%capture\n",
    "!pip install yahooquery"
   ]
  },
  {
   "cell_type": "code",
   "execution_count": 2,
   "id": "005a24ac-2128-4d46-af2d-e747caf4b7a4",
   "metadata": {},
   "outputs": [],
   "source": [
    "import pandas as pd\n",
    "import numpy as np\n",
    "import requests\n",
    "from yahooquery import Ticker\n",
    "from sklearn.linear_model import LinearRegression"
   ]
  },
  {
   "cell_type": "code",
   "execution_count": 254,
   "id": "1fdd6e63-8641-4ae0-952a-7eb7950f17e5",
   "metadata": {},
   "outputs": [],
   "source": [
    "class CapitalStock:\n",
    "    \n",
    "    def __init__(self, symbol, company, details=['FreeCashFlow', 'StockholdersEquity', 'TotalDebt', 'CapitalStock'], period='max', interval='1d', start=None, end=None):\n",
    "        \n",
    "        self.symbol = symbol\n",
    "        self.Tick = Ticker(symbol, trailing=False)\n",
    "        self.company = company  \n",
    "        \n",
    "        self.FinancialData = self.Tick.get_financial_data(details, trailing=False)\n",
    "        self.HistoricalData = self.Tick.history(period, interval, start, end)\n",
    "        \n",
    "    \n",
    "    def BetaRisk(self, span='1y', typed=False):\n",
    "        \"\"\"\n",
    "        Requires packages yahooquery and sklearn.linear_model.\n",
    "        Returns the beta risk facotr of the stock against the S&P/ASX 200 index. \n",
    "        Span kwarg based on yahooquery period kwargs. See: https://yahooquery.dpguthrie.com/guide/ticker/historical/\n",
    "        \"\"\"\n",
    "        exchange_index = Ticker('^AXJO').history(period=span)\n",
    "        df = pd.concat([self.HistoricalData, exchange_index]).unstack(level=0)\n",
    "        df_adjclose = df['adjclose'].pct_change()\n",
    "        df_adjclose = df_adjclose.dropna()\n",
    "        \n",
    "        X = np.array(df_adjclose['^AXJO']).reshape((-1,1))\n",
    "        y = np.array(df_adjclose[self.symbol])\n",
    "\n",
    "        model = LinearRegression().fit(X, y)\n",
    "\n",
    "        if typed == True:\n",
    "            return print(self.company, 'Beta: ', model.coef_[0])\n",
    "\n",
    "        return model.coef_[0]\n",
    "    \n",
    "    def Wacc(self, span='1y'):\n",
    "        \n",
    "        MARKET_RETURN = 0.132 #Source: https://files.marketindex.com.au/files/statistics/historical-returns-infographic-2022.pdf\n",
    "        RISK_FREE_RATE = float(Ticker('^IRX', trailing=False).history(period='7d')['close'].iloc[-1]) / 100 #Returns previous day's close price of 13 week US treasury bond\n",
    "        COD = 0.1357 #Source: https://www.gurufocus.com/term/wacc/ASX:S32/WACC-/South32-Ltd\n",
    "\n",
    "        Equity = self.FinancialData['StockholdersEquity'][-1]\n",
    "        Debt = self.FinancialData['TotalDebt'][-1]\n",
    "        beta = self.BetaRisk()\n",
    "        \n",
    "        weight_average_cost_of_capital = Equity / (Debt + Equity)  * (RISK_FREE_RATE + beta * (MARKET_RETURN - RISK_FREE_RATE)) + Debt / (Debt + Equity) * COD\n",
    "        \n",
    "        return weight_average_cost_of_capital\n",
    "    \n",
    "    def NetPresentValue(self, long_term_rate=0.1, years=10, span='1y'):\n",
    "        free_cash_flow = self.FinancialData['FreeCashFlow'].iloc[-1]\n",
    " \n",
    "        compound_rate = (self.FinancialData['FreeCashFlow'].iloc[-1] / self.FinancialData['FreeCashFlow'].iloc[0]) ** (1 / len(self.FinancialData)) - 1\n",
    "        discount_rate = self.Wacc(span)\n",
    "\n",
    "        present_value = np.sum([free_cash_flow * ((1 + compound_rate) ** i) / ((1 + discount_rate) ** i) for i in range(years)])\n",
    "        last_free_cash_flow =  free_cash_flow * ((1 + compound_rate) ** (years)) / ((1 + discount_rate) ** (years))\n",
    "\n",
    "        terminal_value = last_free_cash_flow * (1 + long_term_rate) / ((discount_rate - long_term_rate)  * (1 + discount_rate) ** (years + 1))\n",
    " \n",
    "        current_stock_value = (present_value + terminal_value) / self.FinancialData['CapitalStock'].iloc[-1] * 1.46 \n",
    "\n",
    "        return current_stock_value\n",
    "        "
   ]
  },
  {
   "cell_type": "code",
   "execution_count": 255,
   "id": "bd94b328-3677-42e7-af29-1fddf3e0462b",
   "metadata": {},
   "outputs": [],
   "source": [
    "s32 = CapitalStock('S32.AX', 'South32', period='5y')"
   ]
  },
  {
   "cell_type": "code",
   "execution_count": 256,
   "id": "00afb0cb-9eec-4b52-93d9-36926ed3aa4c",
   "metadata": {},
   "outputs": [
    {
     "data": {
      "text/plain": [
       "4.43750558794623"
      ]
     },
     "execution_count": 256,
     "metadata": {},
     "output_type": "execute_result"
    }
   ],
   "source": [
    "s32.NetPresentValue(years=10, span='1y')"
   ]
  },
  {
   "cell_type": "code",
   "execution_count": null,
   "id": "34a63cae-0fd6-4f05-b46b-644bbabe17a5",
   "metadata": {},
   "outputs": [
    {
     "name": "stdout",
     "output_type": "stream",
     "text": [
      "0.23572285133991455\n",
      "0.15771726776960862\n"
     ]
    },
    {
     "data": {
      "text/plain": [
       "(17068279809.10266, 4449044984.522774)"
      ]
     },
     "execution_count": 133,
     "metadata": {},
     "output_type": "execute_result"
    }
   ],
   "source": [
    "s32.NetPresentValue()"
   ]
  },
  {
   "cell_type": "code",
   "execution_count": 124,
   "id": "608b30f8-35e6-4509-92c6-e2ed62e79f0a",
   "metadata": {},
   "outputs": [
    {
     "data": {
      "text/plain": [
       "1.3473960087468237"
      ]
     },
     "execution_count": 124,
     "metadata": {},
     "output_type": "execute_result"
    }
   ],
   "source": [
    "s32.BetaRisk()"
   ]
  },
  {
   "cell_type": "code",
   "execution_count": 126,
   "id": "a16ca73c-0386-48ce-8abc-07f716f94364",
   "metadata": {},
   "outputs": [
    {
     "data": {
      "text/plain": [
       "0.15769646889887676"
      ]
     },
     "execution_count": 126,
     "metadata": {},
     "output_type": "execute_result"
    }
   ],
   "source": [
    "s32.Wacc(span='1y')"
   ]
  },
  {
   "cell_type": "code",
   "execution_count": 51,
   "id": "662af416-2bc8-4bae-8c07-ea2aaa1f87ad",
   "metadata": {},
   "outputs": [
    {
     "data": {
      "text/html": [
       "<div>\n",
       "<style scoped>\n",
       "    .dataframe tbody tr th:only-of-type {\n",
       "        vertical-align: middle;\n",
       "    }\n",
       "\n",
       "    .dataframe tbody tr th {\n",
       "        vertical-align: top;\n",
       "    }\n",
       "\n",
       "    .dataframe thead th {\n",
       "        text-align: right;\n",
       "    }\n",
       "</style>\n",
       "<table border=\"1\" class=\"dataframe\">\n",
       "  <thead>\n",
       "    <tr style=\"text-align: right;\">\n",
       "      <th></th>\n",
       "      <th>asOfDate</th>\n",
       "      <th>periodType</th>\n",
       "      <th>currencyCode</th>\n",
       "      <th>CapitalStock</th>\n",
       "      <th>FreeCashFlow</th>\n",
       "      <th>StockholdersEquity</th>\n",
       "      <th>TotalDebt</th>\n",
       "    </tr>\n",
       "    <tr>\n",
       "      <th>symbol</th>\n",
       "      <th></th>\n",
       "      <th></th>\n",
       "      <th></th>\n",
       "      <th></th>\n",
       "      <th></th>\n",
       "      <th></th>\n",
       "      <th></th>\n",
       "    </tr>\n",
       "  </thead>\n",
       "  <tbody>\n",
       "    <tr>\n",
       "      <th>S32.AX</th>\n",
       "      <td>2019-06-30</td>\n",
       "      <td>12M</td>\n",
       "      <td>USD</td>\n",
       "      <td>1.421200e+10</td>\n",
       "      <td>1.061000e+09</td>\n",
       "      <td>1.016900e+10</td>\n",
       "      <td>9.040000e+08</td>\n",
       "    </tr>\n",
       "    <tr>\n",
       "      <th>S32.AX</th>\n",
       "      <td>2020-06-30</td>\n",
       "      <td>12M</td>\n",
       "      <td>USD</td>\n",
       "      <td>1.394300e+10</td>\n",
       "      <td>5.920000e+08</td>\n",
       "      <td>9.563000e+09</td>\n",
       "      <td>1.017000e+09</td>\n",
       "    </tr>\n",
       "    <tr>\n",
       "      <th>S32.AX</th>\n",
       "      <td>2021-06-30</td>\n",
       "      <td>12M</td>\n",
       "      <td>USD</td>\n",
       "      <td>1.359700e+10</td>\n",
       "      <td>8.140000e+08</td>\n",
       "      <td>8.955000e+09</td>\n",
       "      <td>1.207000e+09</td>\n",
       "    </tr>\n",
       "    <tr>\n",
       "      <th>S32.AX</th>\n",
       "      <td>2022-06-30</td>\n",
       "      <td>12M</td>\n",
       "      <td>USD</td>\n",
       "      <td>1.346900e+10</td>\n",
       "      <td>2.474000e+09</td>\n",
       "      <td>1.078000e+10</td>\n",
       "      <td>1.827000e+09</td>\n",
       "    </tr>\n",
       "  </tbody>\n",
       "</table>\n",
       "</div>"
      ],
      "text/plain": [
       "         asOfDate periodType currencyCode  CapitalStock  FreeCashFlow  \\\n",
       "symbol                                                                  \n",
       "S32.AX 2019-06-30        12M          USD  1.421200e+10  1.061000e+09   \n",
       "S32.AX 2020-06-30        12M          USD  1.394300e+10  5.920000e+08   \n",
       "S32.AX 2021-06-30        12M          USD  1.359700e+10  8.140000e+08   \n",
       "S32.AX 2022-06-30        12M          USD  1.346900e+10  2.474000e+09   \n",
       "\n",
       "        StockholdersEquity     TotalDebt  \n",
       "symbol                                    \n",
       "S32.AX        1.016900e+10  9.040000e+08  \n",
       "S32.AX        9.563000e+09  1.017000e+09  \n",
       "S32.AX        8.955000e+09  1.207000e+09  \n",
       "S32.AX        1.078000e+10  1.827000e+09  "
      ]
     },
     "execution_count": 51,
     "metadata": {},
     "output_type": "execute_result"
    }
   ],
   "source": [
    "s32.FinancialData"
   ]
  },
  {
   "cell_type": "code",
   "execution_count": 56,
   "id": "f8c46a68-a4ee-479c-b126-58e508606429",
   "metadata": {},
   "outputs": [
    {
     "data": {
      "text/html": [
       "<div>\n",
       "<style scoped>\n",
       "    .dataframe tbody tr th:only-of-type {\n",
       "        vertical-align: middle;\n",
       "    }\n",
       "\n",
       "    .dataframe tbody tr th {\n",
       "        vertical-align: top;\n",
       "    }\n",
       "\n",
       "    .dataframe thead th {\n",
       "        text-align: right;\n",
       "    }\n",
       "</style>\n",
       "<table border=\"1\" class=\"dataframe\">\n",
       "  <thead>\n",
       "    <tr style=\"text-align: right;\">\n",
       "      <th></th>\n",
       "      <th></th>\n",
       "      <th>open</th>\n",
       "      <th>high</th>\n",
       "      <th>low</th>\n",
       "      <th>close</th>\n",
       "      <th>volume</th>\n",
       "      <th>adjclose</th>\n",
       "    </tr>\n",
       "    <tr>\n",
       "      <th>symbol</th>\n",
       "      <th>date</th>\n",
       "      <th></th>\n",
       "      <th></th>\n",
       "      <th></th>\n",
       "      <th></th>\n",
       "      <th></th>\n",
       "      <th></th>\n",
       "    </tr>\n",
       "  </thead>\n",
       "  <tbody>\n",
       "    <tr>\n",
       "      <th rowspan=\"5\" valign=\"top\">S32.AX</th>\n",
       "      <th>2023-01-03</th>\n",
       "      <td>4.02</td>\n",
       "      <td>4.03</td>\n",
       "      <td>3.910</td>\n",
       "      <td>3.94</td>\n",
       "      <td>10515163</td>\n",
       "      <td>3.94</td>\n",
       "    </tr>\n",
       "    <tr>\n",
       "      <th>2023-01-04</th>\n",
       "      <td>3.99</td>\n",
       "      <td>4.07</td>\n",
       "      <td>3.980</td>\n",
       "      <td>4.07</td>\n",
       "      <td>12362739</td>\n",
       "      <td>4.07</td>\n",
       "    </tr>\n",
       "    <tr>\n",
       "      <th>2023-01-05</th>\n",
       "      <td>4.12</td>\n",
       "      <td>4.13</td>\n",
       "      <td>4.060</td>\n",
       "      <td>4.07</td>\n",
       "      <td>13388326</td>\n",
       "      <td>4.07</td>\n",
       "    </tr>\n",
       "    <tr>\n",
       "      <th>2023-01-06</th>\n",
       "      <td>4.11</td>\n",
       "      <td>4.26</td>\n",
       "      <td>4.110</td>\n",
       "      <td>4.25</td>\n",
       "      <td>18456584</td>\n",
       "      <td>4.25</td>\n",
       "    </tr>\n",
       "    <tr>\n",
       "      <th>2023-01-09</th>\n",
       "      <td>4.38</td>\n",
       "      <td>4.45</td>\n",
       "      <td>4.365</td>\n",
       "      <td>4.41</td>\n",
       "      <td>20074007</td>\n",
       "      <td>4.41</td>\n",
       "    </tr>\n",
       "  </tbody>\n",
       "</table>\n",
       "</div>"
      ],
      "text/plain": [
       "                   open  high    low  close    volume  adjclose\n",
       "symbol date                                                    \n",
       "S32.AX 2023-01-03  4.02  4.03  3.910   3.94  10515163      3.94\n",
       "       2023-01-04  3.99  4.07  3.980   4.07  12362739      4.07\n",
       "       2023-01-05  4.12  4.13  4.060   4.07  13388326      4.07\n",
       "       2023-01-06  4.11  4.26  4.110   4.25  18456584      4.25\n",
       "       2023-01-09  4.38  4.45  4.365   4.41  20074007      4.41"
      ]
     },
     "execution_count": 56,
     "metadata": {},
     "output_type": "execute_result"
    }
   ],
   "source": [
    "s32.HistoricalData.head()"
   ]
  },
  {
   "cell_type": "code",
   "execution_count": null,
   "id": "0e577913-9579-4451-9f32-7a33e6df530e",
   "metadata": {},
   "outputs": [],
   "source": []
  }
 ],
 "metadata": {
  "kernelspec": {
   "display_name": "Python 3 (ipykernel)",
   "language": "python",
   "name": "python3"
  },
  "language_info": {
   "codemirror_mode": {
    "name": "ipython",
    "version": 3
   },
   "file_extension": ".py",
   "mimetype": "text/x-python",
   "name": "python",
   "nbconvert_exporter": "python",
   "pygments_lexer": "ipython3",
   "version": "3.9.13"
  }
 },
 "nbformat": 4,
 "nbformat_minor": 5
}
