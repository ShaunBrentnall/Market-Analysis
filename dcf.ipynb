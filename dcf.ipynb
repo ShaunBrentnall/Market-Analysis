{
 "cells": [
  {
   "cell_type": "code",
   "execution_count": 3,
   "id": "a404b230-5244-46cb-ac18-9a68301f9cf6",
   "metadata": {},
   "outputs": [],
   "source": [
    "import pandas as pd\n",
    "import numpy as np\n",
    "import requests"
   ]
  },
  {
   "cell_type": "markdown",
   "id": "7640528d-b24d-43ea-b9f9-979194472ce9",
   "metadata": {
    "tags": []
   },
   "source": [
    "## Tutorial"
   ]
  },
  {
   "cell_type": "code",
   "execution_count": 4,
   "id": "41fe87a1-024f-42c2-a0b6-43a7add7cfcd",
   "metadata": {},
   "outputs": [],
   "source": [
    "def clean(x,y):\n",
    " df = pd.DataFrame(x.iloc[0,0])\n",
    " df = df.loc[:, df.columns.str.contains(y)]\n",
    " df = pd.json_normalize(df[y])\n",
    " df = pd.DataFrame(df.raw)\n",
    " df.columns=[y]\n",
    " return(df)"
   ]
  },
  {
   "cell_type": "code",
   "execution_count": 12,
   "id": "97cd49c9-f932-486e-bb7f-ebd9b515ef5e",
   "metadata": {},
   "outputs": [
    {
     "data": {
      "text/plain": [
       "\"\\nebit = clean(incomestatement,'incomeBeforeTax')\\ndepreciation = clean(cashflow, 'depreciation')\\ncapex = clean(cashflow,'capitalExpenditures')\\n\""
      ]
     },
     "execution_count": 12,
     "metadata": {},
     "output_type": "execute_result"
    }
   ],
   "source": [
    "url = \"https://yh-finance.p.rapidapi.com/stock/v2/get-financials\" \n",
    "querystring = {\"symbol\": \"AAPL\"}\n",
    "headers = {\n",
    "\"X-RapidAPI-Key\": \"2b16489d50msh77e266df0975dcap19d2a0jsnb4e17362a69d\",\n",
    "\"X-RapidAPI-Host\": \"yh-finance.p.rapidapi.com\"}\n",
    "\n",
    "response = requests.request(\"GET\", url, headers=headers, params=querystring)"
   ]
  },
  {
   "cell_type": "code",
   "execution_count": 14,
   "id": "5c3e9091-ff05-433f-9cff-8996aec7aded",
   "metadata": {},
   "outputs": [],
   "source": [
    "df = response.json()\n",
    "df1 = pd.json_normalize(df)\n",
    "\n",
    "cashflow = df1.loc[:, df1.columns.str.contains('cashflowStatementHistoryQuarterly.cashflowStatements')]\n",
    "incomestatement = df1.loc[:, df1.columns.str.contains('incomeStatementHistory.incomeStatementHistory')]\n",
    "\n",
    "ebit = clean(incomestatement,'incomeBeforeTax')\n",
    "depreciation = clean(cashflow, 'depreciation')\n",
    "capex = clean(cashflow,'capitalExpenditures')\n"
   ]
  },
  {
   "cell_type": "code",
   "execution_count": 20,
   "id": "1a254dc3-4f9e-4a84-a643-04772d012476",
   "metadata": {},
   "outputs": [],
   "source": [
    "df_full = pd.concat([ebit, depreciation, capex], axis=1)"
   ]
  },
  {
   "cell_type": "code",
   "execution_count": 21,
   "id": "3d664b16-71f1-41d3-a3b5-a79af894aaf0",
   "metadata": {},
   "outputs": [
    {
     "data": {
      "text/html": [
       "<div>\n",
       "<style scoped>\n",
       "    .dataframe tbody tr th:only-of-type {\n",
       "        vertical-align: middle;\n",
       "    }\n",
       "\n",
       "    .dataframe tbody tr th {\n",
       "        vertical-align: top;\n",
       "    }\n",
       "\n",
       "    .dataframe thead th {\n",
       "        text-align: right;\n",
       "    }\n",
       "</style>\n",
       "<table border=\"1\" class=\"dataframe\">\n",
       "  <thead>\n",
       "    <tr style=\"text-align: right;\">\n",
       "      <th></th>\n",
       "      <th>incomeBeforeTax</th>\n",
       "      <th>depreciation</th>\n",
       "      <th>capitalExpenditures</th>\n",
       "    </tr>\n",
       "  </thead>\n",
       "  <tbody>\n",
       "    <tr>\n",
       "      <th>0</th>\n",
       "      <td>119103000000</td>\n",
       "      <td>2916000000</td>\n",
       "      <td>-3787000000</td>\n",
       "    </tr>\n",
       "    <tr>\n",
       "      <th>1</th>\n",
       "      <td>109207000000</td>\n",
       "      <td>2865000000</td>\n",
       "      <td>-3289000000</td>\n",
       "    </tr>\n",
       "    <tr>\n",
       "      <th>2</th>\n",
       "      <td>67091000000</td>\n",
       "      <td>2805000000</td>\n",
       "      <td>-2102000000</td>\n",
       "    </tr>\n",
       "    <tr>\n",
       "      <th>3</th>\n",
       "      <td>65737000000</td>\n",
       "      <td>2737000000</td>\n",
       "      <td>-2514000000</td>\n",
       "    </tr>\n",
       "  </tbody>\n",
       "</table>\n",
       "</div>"
      ],
      "text/plain": [
       "   incomeBeforeTax  depreciation  capitalExpenditures\n",
       "0     119103000000    2916000000          -3787000000\n",
       "1     109207000000    2865000000          -3289000000\n",
       "2      67091000000    2805000000          -2102000000\n",
       "3      65737000000    2737000000          -2514000000"
      ]
     },
     "execution_count": 21,
     "metadata": {},
     "output_type": "execute_result"
    }
   ],
   "source": [
    "df_full"
   ]
  },
  {
   "cell_type": "code",
   "execution_count": 23,
   "id": "1c1162a3-cbfc-4411-a501-c50ae2317fcc",
   "metadata": {},
   "outputs": [],
   "source": [
    "mean_capex = df_full['capitalExpenditures'].mean()"
   ]
  },
  {
   "cell_type": "code",
   "execution_count": 24,
   "id": "ecfd542a-1c0f-4dd1-86d9-4369b6044574",
   "metadata": {},
   "outputs": [
    {
     "data": {
      "text/plain": [
       "-2923000000.0"
      ]
     },
     "execution_count": 24,
     "metadata": {},
     "output_type": "execute_result"
    }
   ],
   "source": [
    "mean_capex"
   ]
  },
  {
   "cell_type": "code",
   "execution_count": 28,
   "id": "1630af7f-a0f5-48e1-866a-4856b5e35cb1",
   "metadata": {},
   "outputs": [],
   "source": [
    "df_full_1 = df_full.iloc[0:1].copy()\n",
    "\n",
    "df_full_1['Average Capex'] = mean_capex\n",
    "df_full_1['Owners Earnings'] = df_full_1['incomeBeforeTax'] + df_full_1['depreciation'] - df_full_1['Average Capex']"
   ]
  },
  {
   "cell_type": "code",
   "execution_count": 29,
   "id": "dd5fe3ee-9901-403c-b090-d79b9868eac8",
   "metadata": {},
   "outputs": [
    {
     "data": {
      "text/html": [
       "<div>\n",
       "<style scoped>\n",
       "    .dataframe tbody tr th:only-of-type {\n",
       "        vertical-align: middle;\n",
       "    }\n",
       "\n",
       "    .dataframe tbody tr th {\n",
       "        vertical-align: top;\n",
       "    }\n",
       "\n",
       "    .dataframe thead th {\n",
       "        text-align: right;\n",
       "    }\n",
       "</style>\n",
       "<table border=\"1\" class=\"dataframe\">\n",
       "  <thead>\n",
       "    <tr style=\"text-align: right;\">\n",
       "      <th></th>\n",
       "      <th>incomeBeforeTax</th>\n",
       "      <th>depreciation</th>\n",
       "      <th>capitalExpenditures</th>\n",
       "      <th>Average Capex</th>\n",
       "      <th>Owners Earnings</th>\n",
       "    </tr>\n",
       "  </thead>\n",
       "  <tbody>\n",
       "    <tr>\n",
       "      <th>0</th>\n",
       "      <td>119103000000</td>\n",
       "      <td>2916000000</td>\n",
       "      <td>-3787000000</td>\n",
       "      <td>-2.923000e+09</td>\n",
       "      <td>1.249420e+11</td>\n",
       "    </tr>\n",
       "  </tbody>\n",
       "</table>\n",
       "</div>"
      ],
      "text/plain": [
       "   incomeBeforeTax  depreciation  capitalExpenditures  Average Capex  \\\n",
       "0     119103000000    2916000000          -3787000000  -2.923000e+09   \n",
       "\n",
       "   Owners Earnings  \n",
       "0     1.249420e+11  "
      ]
     },
     "execution_count": 29,
     "metadata": {},
     "output_type": "execute_result"
    }
   ],
   "source": [
    "df_full_1"
   ]
  },
  {
   "cell_type": "code",
   "execution_count": 30,
   "id": "279a2e82-7f32-44a8-a492-aa9c8ff7c60c",
   "metadata": {},
   "outputs": [],
   "source": [
    "def compound(x,y):\n",
    "    z= (1+x)**y\n",
    "    return(z)\n",
    "def discount(x,y):\n",
    "    z= 1/(1+x)**y\n",
    "    return(z)"
   ]
  },
  {
   "cell_type": "code",
   "execution_count": 36,
   "id": "43b9904e-9d29-4ea3-be77-20e51502bc59",
   "metadata": {},
   "outputs": [],
   "source": [
    "terms = 5\n",
    "compound_rate = 0.1\n",
    "discount_rate = 0.05\n",
    "\n",
    "dfc = []\n",
    "for y in range(1, terms+1):\n",
    "    z = compound(compound_rate,y)\n",
    "    dfc.append(z)\n",
    "    \n",
    "dfc1 = pd.DataFrame(dfc)\n",
    "    \n",
    "dfd = []\n",
    "for y in range(1,terms+1):\n",
    " z = discount(discount_rate,y)\n",
    " dfd.append(z)\n",
    "    \n",
    "dfd1 = pd.DataFrame(dfd)\n",
    "\n",
    "calcs_table = pd.concat([dfc1,dfd1],axis=1)\n",
    "calcs_table.columns=[\"Compound\",\"Discount\"]"
   ]
  },
  {
   "cell_type": "code",
   "execution_count": null,
   "id": "dd203d39-d728-4b19-b75a-5e2083a5bf77",
   "metadata": {},
   "outputs": [],
   "source": [
    "calcs_table[\"Amounts\"] = calcs_table['Compound'] * calcs_table['Discount']\n",
    "calcs_table1 = calcs_table.append(calcs_table.sum().rename('Total'))\n",
    "DCF_multiplier = pd.DataFrame(calcs_table1['Amounts'].tail(1)).reset_index(drop=True)\n",
    "DCF_multiplier.columns=[\"DCF_multiplier\"]"
   ]
  },
  {
   "cell_type": "code",
   "execution_count": 41,
   "id": "7cafbc07-ede4-4a3c-8f74-2d035193b1ae",
   "metadata": {},
   "outputs": [
    {
     "data": {
      "text/html": [
       "<div>\n",
       "<style scoped>\n",
       "    .dataframe tbody tr th:only-of-type {\n",
       "        vertical-align: middle;\n",
       "    }\n",
       "\n",
       "    .dataframe tbody tr th {\n",
       "        vertical-align: top;\n",
       "    }\n",
       "\n",
       "    .dataframe thead th {\n",
       "        text-align: right;\n",
       "    }\n",
       "</style>\n",
       "<table border=\"1\" class=\"dataframe\">\n",
       "  <thead>\n",
       "    <tr style=\"text-align: right;\">\n",
       "      <th></th>\n",
       "      <th>Compound</th>\n",
       "      <th>Discount</th>\n",
       "      <th>Amounts</th>\n",
       "    </tr>\n",
       "  </thead>\n",
       "  <tbody>\n",
       "    <tr>\n",
       "      <th>0</th>\n",
       "      <td>1.10000</td>\n",
       "      <td>0.952381</td>\n",
       "      <td>1.047619</td>\n",
       "    </tr>\n",
       "    <tr>\n",
       "      <th>1</th>\n",
       "      <td>1.21000</td>\n",
       "      <td>0.907029</td>\n",
       "      <td>1.097506</td>\n",
       "    </tr>\n",
       "    <tr>\n",
       "      <th>2</th>\n",
       "      <td>1.33100</td>\n",
       "      <td>0.863838</td>\n",
       "      <td>1.149768</td>\n",
       "    </tr>\n",
       "    <tr>\n",
       "      <th>3</th>\n",
       "      <td>1.46410</td>\n",
       "      <td>0.822702</td>\n",
       "      <td>1.204519</td>\n",
       "    </tr>\n",
       "    <tr>\n",
       "      <th>4</th>\n",
       "      <td>1.61051</td>\n",
       "      <td>0.783526</td>\n",
       "      <td>1.261877</td>\n",
       "    </tr>\n",
       "    <tr>\n",
       "      <th>Total</th>\n",
       "      <td>6.71561</td>\n",
       "      <td>4.329477</td>\n",
       "      <td>5.761288</td>\n",
       "    </tr>\n",
       "  </tbody>\n",
       "</table>\n",
       "</div>"
      ],
      "text/plain": [
       "       Compound  Discount   Amounts\n",
       "0       1.10000  0.952381  1.047619\n",
       "1       1.21000  0.907029  1.097506\n",
       "2       1.33100  0.863838  1.149768\n",
       "3       1.46410  0.822702  1.204519\n",
       "4       1.61051  0.783526  1.261877\n",
       "Total   6.71561  4.329477  5.761288"
      ]
     },
     "execution_count": 41,
     "metadata": {},
     "output_type": "execute_result"
    }
   ],
   "source": [
    "calcs_table1"
   ]
  },
  {
   "cell_type": "code",
   "execution_count": 42,
   "id": "8acbb395-ffb9-483f-8e80-5044568eb213",
   "metadata": {},
   "outputs": [
    {
     "data": {
      "text/html": [
       "<div>\n",
       "<style scoped>\n",
       "    .dataframe tbody tr th:only-of-type {\n",
       "        vertical-align: middle;\n",
       "    }\n",
       "\n",
       "    .dataframe tbody tr th {\n",
       "        vertical-align: top;\n",
       "    }\n",
       "\n",
       "    .dataframe thead th {\n",
       "        text-align: right;\n",
       "    }\n",
       "</style>\n",
       "<table border=\"1\" class=\"dataframe\">\n",
       "  <thead>\n",
       "    <tr style=\"text-align: right;\">\n",
       "      <th></th>\n",
       "      <th>DCF_multiplier</th>\n",
       "    </tr>\n",
       "  </thead>\n",
       "  <tbody>\n",
       "    <tr>\n",
       "      <th>0</th>\n",
       "      <td>5.761288</td>\n",
       "    </tr>\n",
       "  </tbody>\n",
       "</table>\n",
       "</div>"
      ],
      "text/plain": [
       "   DCF_multiplier\n",
       "0        5.761288"
      ]
     },
     "execution_count": 42,
     "metadata": {},
     "output_type": "execute_result"
    }
   ],
   "source": [
    "DCF_multiplier"
   ]
  },
  {
   "cell_type": "code",
   "execution_count": 49,
   "id": "3a73fb2a-fe8f-4b0b-8db4-bc991d0ebba8",
   "metadata": {},
   "outputs": [],
   "source": [
    "PV_multiplier = pd.DataFrame(calcs_table['Amounts'].tail(1)).reset_index(drop=True)\n",
    "PV_multiplier.columns=[\"PV_multiplier\"]\n",
    "PV_multiplier = PV_multiplier['PV_multiplier']/discount_rate"
   ]
  },
  {
   "cell_type": "code",
   "execution_count": 50,
   "id": "89c257b4-dad7-4a54-8a6b-5e80ad0db5fc",
   "metadata": {},
   "outputs": [
    {
     "data": {
      "text/plain": [
       "0    25.237535\n",
       "Name: PV_multiplier, dtype: float64"
      ]
     },
     "execution_count": 50,
     "metadata": {},
     "output_type": "execute_result"
    }
   ],
   "source": [
    "PV_multiplier"
   ]
  },
  {
   "cell_type": "code",
   "execution_count": 52,
   "id": "31d5647a-66a5-44fd-b4a5-2d6872a18bd3",
   "metadata": {},
   "outputs": [],
   "source": [
    "final_df = pd.concat([df_full_1,PV_multiplier,DCF_multiplier],axis=1)\n",
    "final_df['OE*PV'] = final_df['Owners Earnings']*final_df['PV_multiplier']\n",
    "final_df['OE*DCF'] = final_df['Owners Earnings']*final_df['DCF_multiplier']\n",
    "final_df['Intrinsic Value'] = final_df['OE*PV'] + final_df['OE*DCF']"
   ]
  },
  {
   "cell_type": "code",
   "execution_count": 53,
   "id": "3aeb1aef-d5be-42e4-9ec1-43cf8c1b34a9",
   "metadata": {},
   "outputs": [
    {
     "data": {
      "text/html": [
       "<div>\n",
       "<style scoped>\n",
       "    .dataframe tbody tr th:only-of-type {\n",
       "        vertical-align: middle;\n",
       "    }\n",
       "\n",
       "    .dataframe tbody tr th {\n",
       "        vertical-align: top;\n",
       "    }\n",
       "\n",
       "    .dataframe thead th {\n",
       "        text-align: right;\n",
       "    }\n",
       "</style>\n",
       "<table border=\"1\" class=\"dataframe\">\n",
       "  <thead>\n",
       "    <tr style=\"text-align: right;\">\n",
       "      <th></th>\n",
       "      <th>incomeBeforeTax</th>\n",
       "      <th>depreciation</th>\n",
       "      <th>capitalExpenditures</th>\n",
       "      <th>Average Capex</th>\n",
       "      <th>Owners Earnings</th>\n",
       "      <th>PV_multiplier</th>\n",
       "      <th>DCF_multiplier</th>\n",
       "      <th>OE*PV</th>\n",
       "      <th>OE*DCF</th>\n",
       "      <th>Intrinsic Value</th>\n",
       "    </tr>\n",
       "  </thead>\n",
       "  <tbody>\n",
       "    <tr>\n",
       "      <th>0</th>\n",
       "      <td>119103000000</td>\n",
       "      <td>2916000000</td>\n",
       "      <td>-3787000000</td>\n",
       "      <td>-2.923000e+09</td>\n",
       "      <td>1.249420e+11</td>\n",
       "      <td>25.237535</td>\n",
       "      <td>5.761288</td>\n",
       "      <td>3.153228e+12</td>\n",
       "      <td>7.198268e+11</td>\n",
       "      <td>3.873055e+12</td>\n",
       "    </tr>\n",
       "  </tbody>\n",
       "</table>\n",
       "</div>"
      ],
      "text/plain": [
       "   incomeBeforeTax  depreciation  capitalExpenditures  Average Capex  \\\n",
       "0     119103000000    2916000000          -3787000000  -2.923000e+09   \n",
       "\n",
       "   Owners Earnings  PV_multiplier  DCF_multiplier         OE*PV        OE*DCF  \\\n",
       "0     1.249420e+11      25.237535        5.761288  3.153228e+12  7.198268e+11   \n",
       "\n",
       "   Intrinsic Value  \n",
       "0     3.873055e+12  "
      ]
     },
     "execution_count": 53,
     "metadata": {},
     "output_type": "execute_result"
    }
   ],
   "source": [
    "final_df"
   ]
  },
  {
   "cell_type": "markdown",
   "id": "9a151887-dbd6-41d5-8bf8-45e11a648231",
   "metadata": {
    "tags": []
   },
   "source": [
    "## Mine"
   ]
  },
  {
   "cell_type": "markdown",
   "id": "20cf0fb5-0cd4-4661-9055-e6fb1840da0d",
   "metadata": {
    "jp-MarkdownHeadingCollapsed": true,
    "tags": []
   },
   "source": [
    "### yfinance method, not working as of 02/03/2023"
   ]
  },
  {
   "cell_type": "code",
   "execution_count": 54,
   "id": "aeaac7c8-cf59-470e-8ef6-4315403b3d6d",
   "metadata": {},
   "outputs": [],
   "source": [
    "%%capture\n",
    "!pip install yfinance\n",
    "import yfinance as yf"
   ]
  },
  {
   "cell_type": "code",
   "execution_count": 55,
   "id": "1e1b1e07-8dcc-4ec0-81d8-b9ba8fd2bcce",
   "metadata": {},
   "outputs": [],
   "source": [
    "msft = yf.Ticker(\"S32.AX\")"
   ]
  },
  {
   "cell_type": "code",
   "execution_count": 56,
   "id": "6df4ba78-0e32-4abb-a33a-41ee8baa0e78",
   "metadata": {},
   "outputs": [
    {
     "data": {
      "text/plain": [
       "Date\n",
       "2016-09-15 00:00:00+10:00    0.013200\n",
       "2017-03-09 00:00:00+11:00    0.047648\n",
       "2017-09-14 00:00:00+10:00    0.079843\n",
       "2018-03-08 00:00:00+11:00    0.038412\n",
       "2018-09-13 00:00:00+10:00    0.086581\n",
       "2019-03-07 00:00:00+11:00    0.023970\n",
       "2019-09-12 00:00:00+10:00    0.041051\n",
       "2020-03-05 00:00:00+11:00    0.016737\n",
       "2020-09-10 00:00:00+10:00    0.013689\n",
       "2021-03-11 00:00:00+11:00    0.018088\n",
       "2021-09-09 00:00:00+10:00    0.027141\n",
       "2022-03-10 00:00:00+11:00    0.119486\n",
       "2022-09-15 00:00:00+10:00    0.030000\n",
       "Name: Dividends, dtype: float64"
      ]
     },
     "execution_count": 56,
     "metadata": {},
     "output_type": "execute_result"
    }
   ],
   "source": [
    "msft.dividends"
   ]
  },
  {
   "cell_type": "code",
   "execution_count": 62,
   "id": "8d092cc3-f5f9-475f-b6c2-ac2decd6928c",
   "metadata": {},
   "outputs": [
    {
     "data": {
      "text/html": [
       "<div>\n",
       "<style scoped>\n",
       "    .dataframe tbody tr th:only-of-type {\n",
       "        vertical-align: middle;\n",
       "    }\n",
       "\n",
       "    .dataframe tbody tr th {\n",
       "        vertical-align: top;\n",
       "    }\n",
       "\n",
       "    .dataframe thead th {\n",
       "        text-align: right;\n",
       "    }\n",
       "</style>\n",
       "<table border=\"1\" class=\"dataframe\">\n",
       "  <thead>\n",
       "    <tr style=\"text-align: right;\">\n",
       "      <th></th>\n",
       "      <th>Dividends</th>\n",
       "      <th>Stock Splits</th>\n",
       "    </tr>\n",
       "    <tr>\n",
       "      <th>Date</th>\n",
       "      <th></th>\n",
       "      <th></th>\n",
       "    </tr>\n",
       "  </thead>\n",
       "  <tbody>\n",
       "    <tr>\n",
       "      <th>2016-09-15 00:00:00+10:00</th>\n",
       "      <td>0.013200</td>\n",
       "      <td>0.0</td>\n",
       "    </tr>\n",
       "    <tr>\n",
       "      <th>2017-03-09 00:00:00+11:00</th>\n",
       "      <td>0.047648</td>\n",
       "      <td>0.0</td>\n",
       "    </tr>\n",
       "    <tr>\n",
       "      <th>2017-09-14 00:00:00+10:00</th>\n",
       "      <td>0.079843</td>\n",
       "      <td>0.0</td>\n",
       "    </tr>\n",
       "    <tr>\n",
       "      <th>2018-03-08 00:00:00+11:00</th>\n",
       "      <td>0.038412</td>\n",
       "      <td>0.0</td>\n",
       "    </tr>\n",
       "    <tr>\n",
       "      <th>2018-09-13 00:00:00+10:00</th>\n",
       "      <td>0.086581</td>\n",
       "      <td>0.0</td>\n",
       "    </tr>\n",
       "    <tr>\n",
       "      <th>2019-03-07 00:00:00+11:00</th>\n",
       "      <td>0.023970</td>\n",
       "      <td>0.0</td>\n",
       "    </tr>\n",
       "    <tr>\n",
       "      <th>2019-09-12 00:00:00+10:00</th>\n",
       "      <td>0.041051</td>\n",
       "      <td>0.0</td>\n",
       "    </tr>\n",
       "    <tr>\n",
       "      <th>2020-03-05 00:00:00+11:00</th>\n",
       "      <td>0.016737</td>\n",
       "      <td>0.0</td>\n",
       "    </tr>\n",
       "    <tr>\n",
       "      <th>2020-09-10 00:00:00+10:00</th>\n",
       "      <td>0.013689</td>\n",
       "      <td>0.0</td>\n",
       "    </tr>\n",
       "    <tr>\n",
       "      <th>2021-03-11 00:00:00+11:00</th>\n",
       "      <td>0.018088</td>\n",
       "      <td>0.0</td>\n",
       "    </tr>\n",
       "    <tr>\n",
       "      <th>2021-09-09 00:00:00+10:00</th>\n",
       "      <td>0.027141</td>\n",
       "      <td>0.0</td>\n",
       "    </tr>\n",
       "    <tr>\n",
       "      <th>2022-03-10 00:00:00+11:00</th>\n",
       "      <td>0.119486</td>\n",
       "      <td>0.0</td>\n",
       "    </tr>\n",
       "    <tr>\n",
       "      <th>2022-09-15 00:00:00+10:00</th>\n",
       "      <td>0.030000</td>\n",
       "      <td>0.0</td>\n",
       "    </tr>\n",
       "  </tbody>\n",
       "</table>\n",
       "</div>"
      ],
      "text/plain": [
       "                           Dividends  Stock Splits\n",
       "Date                                              \n",
       "2016-09-15 00:00:00+10:00   0.013200           0.0\n",
       "2017-03-09 00:00:00+11:00   0.047648           0.0\n",
       "2017-09-14 00:00:00+10:00   0.079843           0.0\n",
       "2018-03-08 00:00:00+11:00   0.038412           0.0\n",
       "2018-09-13 00:00:00+10:00   0.086581           0.0\n",
       "2019-03-07 00:00:00+11:00   0.023970           0.0\n",
       "2019-09-12 00:00:00+10:00   0.041051           0.0\n",
       "2020-03-05 00:00:00+11:00   0.016737           0.0\n",
       "2020-09-10 00:00:00+10:00   0.013689           0.0\n",
       "2021-03-11 00:00:00+11:00   0.018088           0.0\n",
       "2021-09-09 00:00:00+10:00   0.027141           0.0\n",
       "2022-03-10 00:00:00+11:00   0.119486           0.0\n",
       "2022-09-15 00:00:00+10:00   0.030000           0.0"
      ]
     },
     "execution_count": 62,
     "metadata": {},
     "output_type": "execute_result"
    }
   ],
   "source": [
    "msft.actions"
   ]
  },
  {
   "cell_type": "code",
   "execution_count": 60,
   "id": "7fe9c159-a511-45b5-98a1-054eb2d48794",
   "metadata": {},
   "outputs": [],
   "source": [
    "#msft.shares"
   ]
  },
  {
   "cell_type": "code",
   "execution_count": 61,
   "id": "b729d5ef-ffa4-4c6d-bb9c-a3e7b6fc397b",
   "metadata": {},
   "outputs": [
    {
     "ename": "Exception",
     "evalue": "yfinance failed to decrypt Yahoo data response",
     "output_type": "error",
     "traceback": [
      "\u001b[1;31m---------------------------------------------------------------------------\u001b[0m",
      "\u001b[1;31mException\u001b[0m                                 Traceback (most recent call last)",
      "\u001b[1;32m~\\AppData\\Local\\Temp\\ipykernel_9144\\1202646007.py\u001b[0m in \u001b[0;36m<module>\u001b[1;34m\u001b[0m\n\u001b[1;32m----> 1\u001b[1;33m \u001b[0mmsft\u001b[0m\u001b[1;33m.\u001b[0m\u001b[0mcashflow\u001b[0m\u001b[1;33m\u001b[0m\u001b[1;33m\u001b[0m\u001b[0m\n\u001b[0m",
      "\u001b[1;32mD:\\anaconda3\\lib\\site-packages\\yfinance\\ticker.py\u001b[0m in \u001b[0;36mcashflow\u001b[1;34m(self)\u001b[0m\n\u001b[0;32m    204\u001b[0m     \u001b[1;33m@\u001b[0m\u001b[0mproperty\u001b[0m\u001b[1;33m\u001b[0m\u001b[1;33m\u001b[0m\u001b[0m\n\u001b[0;32m    205\u001b[0m     \u001b[1;32mdef\u001b[0m \u001b[0mcashflow\u001b[0m\u001b[1;33m(\u001b[0m\u001b[0mself\u001b[0m\u001b[1;33m)\u001b[0m \u001b[1;33m->\u001b[0m \u001b[0m_pd\u001b[0m\u001b[1;33m.\u001b[0m\u001b[0mDataFrame\u001b[0m\u001b[1;33m:\u001b[0m\u001b[1;33m\u001b[0m\u001b[1;33m\u001b[0m\u001b[0m\n\u001b[1;32m--> 206\u001b[1;33m         \u001b[1;32mreturn\u001b[0m \u001b[0mself\u001b[0m\u001b[1;33m.\u001b[0m\u001b[0mcash_flow\u001b[0m\u001b[1;33m\u001b[0m\u001b[1;33m\u001b[0m\u001b[0m\n\u001b[0m\u001b[0;32m    207\u001b[0m \u001b[1;33m\u001b[0m\u001b[0m\n\u001b[0;32m    208\u001b[0m     \u001b[1;33m@\u001b[0m\u001b[0mproperty\u001b[0m\u001b[1;33m\u001b[0m\u001b[1;33m\u001b[0m\u001b[0m\n",
      "\u001b[1;32mD:\\anaconda3\\lib\\site-packages\\yfinance\\ticker.py\u001b[0m in \u001b[0;36mcash_flow\u001b[1;34m(self)\u001b[0m\n\u001b[0;32m    196\u001b[0m     \u001b[1;33m@\u001b[0m\u001b[0mproperty\u001b[0m\u001b[1;33m\u001b[0m\u001b[1;33m\u001b[0m\u001b[0m\n\u001b[0;32m    197\u001b[0m     \u001b[1;32mdef\u001b[0m \u001b[0mcash_flow\u001b[0m\u001b[1;33m(\u001b[0m\u001b[0mself\u001b[0m\u001b[1;33m)\u001b[0m \u001b[1;33m->\u001b[0m \u001b[0m_pd\u001b[0m\u001b[1;33m.\u001b[0m\u001b[0mDataFrame\u001b[0m\u001b[1;33m:\u001b[0m\u001b[1;33m\u001b[0m\u001b[1;33m\u001b[0m\u001b[0m\n\u001b[1;32m--> 198\u001b[1;33m         \u001b[1;32mreturn\u001b[0m \u001b[0mself\u001b[0m\u001b[1;33m.\u001b[0m\u001b[0mget_cash_flow\u001b[0m\u001b[1;33m(\u001b[0m\u001b[0mpretty\u001b[0m\u001b[1;33m=\u001b[0m\u001b[1;32mTrue\u001b[0m\u001b[1;33m,\u001b[0m \u001b[0mfreq\u001b[0m\u001b[1;33m=\u001b[0m\u001b[1;34m\"yearly\"\u001b[0m\u001b[1;33m)\u001b[0m\u001b[1;33m\u001b[0m\u001b[1;33m\u001b[0m\u001b[0m\n\u001b[0m\u001b[0;32m    199\u001b[0m \u001b[1;33m\u001b[0m\u001b[0m\n\u001b[0;32m    200\u001b[0m     \u001b[1;33m@\u001b[0m\u001b[0mproperty\u001b[0m\u001b[1;33m\u001b[0m\u001b[1;33m\u001b[0m\u001b[0m\n",
      "\u001b[1;32mD:\\anaconda3\\lib\\site-packages\\yfinance\\base.py\u001b[0m in \u001b[0;36mget_cash_flow\u001b[1;34m(self, proxy, as_dict, pretty, freq, legacy)\u001b[0m\n\u001b[0;32m   1655\u001b[0m             \u001b[0mdata\u001b[0m \u001b[1;33m=\u001b[0m \u001b[0mself\u001b[0m\u001b[1;33m.\u001b[0m\u001b[0m_fundamentals\u001b[0m\u001b[1;33m.\u001b[0m\u001b[0mfinancials\u001b[0m\u001b[1;33m.\u001b[0m\u001b[0mget_cash_flow_scrape\u001b[0m\u001b[1;33m(\u001b[0m\u001b[0mfreq\u001b[0m\u001b[1;33m=\u001b[0m\u001b[0mfreq\u001b[0m\u001b[1;33m,\u001b[0m \u001b[0mproxy\u001b[0m\u001b[1;33m=\u001b[0m\u001b[0mproxy\u001b[0m\u001b[1;33m)\u001b[0m\u001b[1;33m\u001b[0m\u001b[1;33m\u001b[0m\u001b[0m\n\u001b[0;32m   1656\u001b[0m         \u001b[1;32melse\u001b[0m\u001b[1;33m:\u001b[0m\u001b[1;33m\u001b[0m\u001b[1;33m\u001b[0m\u001b[0m\n\u001b[1;32m-> 1657\u001b[1;33m             \u001b[0mdata\u001b[0m \u001b[1;33m=\u001b[0m \u001b[0mself\u001b[0m\u001b[1;33m.\u001b[0m\u001b[0m_fundamentals\u001b[0m\u001b[1;33m.\u001b[0m\u001b[0mfinancials\u001b[0m\u001b[1;33m.\u001b[0m\u001b[0mget_cash_flow_time_series\u001b[0m\u001b[1;33m(\u001b[0m\u001b[0mfreq\u001b[0m\u001b[1;33m=\u001b[0m\u001b[0mfreq\u001b[0m\u001b[1;33m,\u001b[0m \u001b[0mproxy\u001b[0m\u001b[1;33m=\u001b[0m\u001b[0mproxy\u001b[0m\u001b[1;33m)\u001b[0m\u001b[1;33m\u001b[0m\u001b[1;33m\u001b[0m\u001b[0m\n\u001b[0m\u001b[0;32m   1658\u001b[0m \u001b[1;33m\u001b[0m\u001b[0m\n\u001b[0;32m   1659\u001b[0m         \u001b[1;32mif\u001b[0m \u001b[0mpretty\u001b[0m\u001b[1;33m:\u001b[0m\u001b[1;33m\u001b[0m\u001b[1;33m\u001b[0m\u001b[0m\n",
      "\u001b[1;32mD:\\anaconda3\\lib\\site-packages\\yfinance\\scrapers\\fundamentals.py\u001b[0m in \u001b[0;36mget_cash_flow_time_series\u001b[1;34m(self, freq, proxy)\u001b[0m\n\u001b[0;32m    123\u001b[0m         \u001b[0mres\u001b[0m \u001b[1;33m=\u001b[0m \u001b[0mself\u001b[0m\u001b[1;33m.\u001b[0m\u001b[0m_cash_flow_time_series\u001b[0m\u001b[1;33m\u001b[0m\u001b[1;33m\u001b[0m\u001b[0m\n\u001b[0;32m    124\u001b[0m         \u001b[1;32mif\u001b[0m \u001b[0mfreq\u001b[0m \u001b[1;32mnot\u001b[0m \u001b[1;32min\u001b[0m \u001b[0mres\u001b[0m\u001b[1;33m:\u001b[0m\u001b[1;33m\u001b[0m\u001b[1;33m\u001b[0m\u001b[0m\n\u001b[1;32m--> 125\u001b[1;33m             \u001b[0mres\u001b[0m\u001b[1;33m[\u001b[0m\u001b[0mfreq\u001b[0m\u001b[1;33m]\u001b[0m \u001b[1;33m=\u001b[0m \u001b[0mself\u001b[0m\u001b[1;33m.\u001b[0m\u001b[0m_fetch_time_series\u001b[0m\u001b[1;33m(\u001b[0m\u001b[1;34m\"cash-flow\"\u001b[0m\u001b[1;33m,\u001b[0m \u001b[0mfreq\u001b[0m\u001b[1;33m,\u001b[0m \u001b[0mproxy\u001b[0m\u001b[1;33m=\u001b[0m\u001b[1;32mNone\u001b[0m\u001b[1;33m)\u001b[0m\u001b[1;33m\u001b[0m\u001b[1;33m\u001b[0m\u001b[0m\n\u001b[0m\u001b[0;32m    126\u001b[0m         \u001b[1;32mreturn\u001b[0m \u001b[0mres\u001b[0m\u001b[1;33m[\u001b[0m\u001b[0mfreq\u001b[0m\u001b[1;33m]\u001b[0m\u001b[1;33m\u001b[0m\u001b[1;33m\u001b[0m\u001b[0m\n\u001b[0;32m    127\u001b[0m \u001b[1;33m\u001b[0m\u001b[0m\n",
      "\u001b[1;32mD:\\anaconda3\\lib\\site-packages\\yfinance\\scrapers\\fundamentals.py\u001b[0m in \u001b[0;36m_fetch_time_series\u001b[1;34m(self, name, timescale, proxy)\u001b[0m\n\u001b[0;32m    140\u001b[0m \u001b[1;33m\u001b[0m\u001b[0m\n\u001b[0;32m    141\u001b[0m         \u001b[1;32mtry\u001b[0m\u001b[1;33m:\u001b[0m\u001b[1;33m\u001b[0m\u001b[1;33m\u001b[0m\u001b[0m\n\u001b[1;32m--> 142\u001b[1;33m             \u001b[0mstatement\u001b[0m \u001b[1;33m=\u001b[0m \u001b[0mself\u001b[0m\u001b[1;33m.\u001b[0m\u001b[0m_create_financials_table\u001b[0m\u001b[1;33m(\u001b[0m\u001b[0mname\u001b[0m\u001b[1;33m,\u001b[0m \u001b[0mtimescale\u001b[0m\u001b[1;33m,\u001b[0m \u001b[0mproxy\u001b[0m\u001b[1;33m)\u001b[0m\u001b[1;33m\u001b[0m\u001b[1;33m\u001b[0m\u001b[0m\n\u001b[0m\u001b[0;32m    143\u001b[0m \u001b[1;33m\u001b[0m\u001b[0m\n\u001b[0;32m    144\u001b[0m             \u001b[1;32mif\u001b[0m \u001b[0mstatement\u001b[0m \u001b[1;32mis\u001b[0m \u001b[1;32mnot\u001b[0m \u001b[1;32mNone\u001b[0m\u001b[1;33m:\u001b[0m\u001b[1;33m\u001b[0m\u001b[1;33m\u001b[0m\u001b[0m\n",
      "\u001b[1;32mD:\\anaconda3\\lib\\site-packages\\yfinance\\scrapers\\fundamentals.py\u001b[0m in \u001b[0;36m_create_financials_table\u001b[1;34m(self, name, timescale, proxy)\u001b[0m\n\u001b[0;32m    153\u001b[0m             \u001b[0mname\u001b[0m \u001b[1;33m=\u001b[0m \u001b[1;34m\"financials\"\u001b[0m\u001b[1;33m\u001b[0m\u001b[1;33m\u001b[0m\u001b[0m\n\u001b[0;32m    154\u001b[0m \u001b[1;33m\u001b[0m\u001b[0m\n\u001b[1;32m--> 155\u001b[1;33m         \u001b[0mkeys\u001b[0m \u001b[1;33m=\u001b[0m \u001b[0mself\u001b[0m\u001b[1;33m.\u001b[0m\u001b[0m_get_datastore_keys\u001b[0m\u001b[1;33m(\u001b[0m\u001b[0mname\u001b[0m\u001b[1;33m,\u001b[0m \u001b[0mproxy\u001b[0m\u001b[1;33m)\u001b[0m\u001b[1;33m\u001b[0m\u001b[1;33m\u001b[0m\u001b[0m\n\u001b[0m\u001b[0;32m    156\u001b[0m         \u001b[1;32mtry\u001b[0m\u001b[1;33m:\u001b[0m\u001b[1;33m\u001b[0m\u001b[1;33m\u001b[0m\u001b[0m\n\u001b[0;32m    157\u001b[0m             \u001b[1;32mreturn\u001b[0m \u001b[0mself\u001b[0m\u001b[1;33m.\u001b[0m\u001b[0mget_financials_time_series\u001b[0m\u001b[1;33m(\u001b[0m\u001b[0mtimescale\u001b[0m\u001b[1;33m,\u001b[0m \u001b[0mkeys\u001b[0m\u001b[1;33m,\u001b[0m \u001b[0mproxy\u001b[0m\u001b[1;33m)\u001b[0m\u001b[1;33m\u001b[0m\u001b[1;33m\u001b[0m\u001b[0m\n",
      "\u001b[1;32mD:\\anaconda3\\lib\\site-packages\\yfinance\\scrapers\\fundamentals.py\u001b[0m in \u001b[0;36m_get_datastore_keys\u001b[1;34m(self, sub_page, proxy)\u001b[0m\n\u001b[0;32m    160\u001b[0m \u001b[1;33m\u001b[0m\u001b[0m\n\u001b[0;32m    161\u001b[0m     \u001b[1;32mdef\u001b[0m \u001b[0m_get_datastore_keys\u001b[0m\u001b[1;33m(\u001b[0m\u001b[0mself\u001b[0m\u001b[1;33m,\u001b[0m \u001b[0msub_page\u001b[0m\u001b[1;33m,\u001b[0m \u001b[0mproxy\u001b[0m\u001b[1;33m)\u001b[0m \u001b[1;33m->\u001b[0m \u001b[0mlist\u001b[0m\u001b[1;33m:\u001b[0m\u001b[1;33m\u001b[0m\u001b[1;33m\u001b[0m\u001b[0m\n\u001b[1;32m--> 162\u001b[1;33m         \u001b[0mdata_stores\u001b[0m \u001b[1;33m=\u001b[0m \u001b[0mself\u001b[0m\u001b[1;33m.\u001b[0m\u001b[0m_data\u001b[0m\u001b[1;33m.\u001b[0m\u001b[0mget_json_data_stores\u001b[0m\u001b[1;33m(\u001b[0m\u001b[0msub_page\u001b[0m\u001b[1;33m,\u001b[0m \u001b[0mproxy\u001b[0m\u001b[1;33m)\u001b[0m\u001b[1;33m\u001b[0m\u001b[1;33m\u001b[0m\u001b[0m\n\u001b[0m\u001b[0;32m    163\u001b[0m \u001b[1;33m\u001b[0m\u001b[0m\n\u001b[0;32m    164\u001b[0m         \u001b[1;31m# Step 1: get the keys:\u001b[0m\u001b[1;33m\u001b[0m\u001b[1;33m\u001b[0m\u001b[0m\n",
      "\u001b[1;32mD:\\anaconda3\\lib\\site-packages\\yfinance\\data.py\u001b[0m in \u001b[0;36mwrapped\u001b[1;34m(*args, **kwargs)\u001b[0m\n\u001b[0;32m     39\u001b[0m         \u001b[0margs\u001b[0m \u001b[1;33m=\u001b[0m \u001b[0mtuple\u001b[0m\u001b[1;33m(\u001b[0m\u001b[1;33m[\u001b[0m\u001b[0mtuple\u001b[0m\u001b[1;33m(\u001b[0m\u001b[0marg\u001b[0m\u001b[1;33m)\u001b[0m \u001b[1;32mif\u001b[0m \u001b[0misinstance\u001b[0m\u001b[1;33m(\u001b[0m\u001b[0marg\u001b[0m\u001b[1;33m,\u001b[0m \u001b[0mlist\u001b[0m\u001b[1;33m)\u001b[0m \u001b[1;32melse\u001b[0m \u001b[0marg\u001b[0m \u001b[1;32mfor\u001b[0m \u001b[0marg\u001b[0m \u001b[1;32min\u001b[0m \u001b[0margs\u001b[0m\u001b[1;33m]\u001b[0m\u001b[1;33m)\u001b[0m\u001b[1;33m\u001b[0m\u001b[1;33m\u001b[0m\u001b[0m\n\u001b[0;32m     40\u001b[0m         \u001b[0mkwargs\u001b[0m \u001b[1;33m=\u001b[0m \u001b[1;33m{\u001b[0m\u001b[0mk\u001b[0m\u001b[1;33m:\u001b[0m \u001b[0mtuple\u001b[0m\u001b[1;33m(\u001b[0m\u001b[0mv\u001b[0m\u001b[1;33m)\u001b[0m \u001b[1;32mif\u001b[0m \u001b[0misinstance\u001b[0m\u001b[1;33m(\u001b[0m\u001b[0mv\u001b[0m\u001b[1;33m,\u001b[0m \u001b[0mlist\u001b[0m\u001b[1;33m)\u001b[0m \u001b[1;32melse\u001b[0m \u001b[0mv\u001b[0m \u001b[1;32mfor\u001b[0m \u001b[0mk\u001b[0m\u001b[1;33m,\u001b[0m \u001b[0mv\u001b[0m \u001b[1;32min\u001b[0m \u001b[0mkwargs\u001b[0m\u001b[1;33m.\u001b[0m\u001b[0mitems\u001b[0m\u001b[1;33m(\u001b[0m\u001b[1;33m)\u001b[0m\u001b[1;33m}\u001b[0m\u001b[1;33m\u001b[0m\u001b[1;33m\u001b[0m\u001b[0m\n\u001b[1;32m---> 41\u001b[1;33m         \u001b[1;32mreturn\u001b[0m \u001b[0mfunc\u001b[0m\u001b[1;33m(\u001b[0m\u001b[1;33m*\u001b[0m\u001b[0margs\u001b[0m\u001b[1;33m,\u001b[0m \u001b[1;33m**\u001b[0m\u001b[0mkwargs\u001b[0m\u001b[1;33m)\u001b[0m\u001b[1;33m\u001b[0m\u001b[1;33m\u001b[0m\u001b[0m\n\u001b[0m\u001b[0;32m     42\u001b[0m \u001b[1;33m\u001b[0m\u001b[0m\n\u001b[0;32m     43\u001b[0m     \u001b[1;31m# copy over the lru_cache extra methods to this wrapper to be able to access them\u001b[0m\u001b[1;33m\u001b[0m\u001b[1;33m\u001b[0m\u001b[0m\n",
      "\u001b[1;32mD:\\anaconda3\\lib\\site-packages\\yfinance\\data.py\u001b[0m in \u001b[0;36mget_json_data_stores\u001b[1;34m(self, sub_page, proxy)\u001b[0m\n\u001b[0;32m    309\u001b[0m \u001b[1;33m\u001b[0m\u001b[0m\n\u001b[0;32m    310\u001b[0m         \u001b[1;31m# Decrypt!\u001b[0m\u001b[1;33m\u001b[0m\u001b[1;33m\u001b[0m\u001b[0m\n\u001b[1;32m--> 311\u001b[1;33m         \u001b[0mstores\u001b[0m \u001b[1;33m=\u001b[0m \u001b[0mdecrypt_cryptojs_aes_stores\u001b[0m\u001b[1;33m(\u001b[0m\u001b[0mdata\u001b[0m\u001b[1;33m,\u001b[0m \u001b[0mkeys\u001b[0m\u001b[1;33m)\u001b[0m\u001b[1;33m\u001b[0m\u001b[1;33m\u001b[0m\u001b[0m\n\u001b[0m\u001b[0;32m    312\u001b[0m         \u001b[1;32mif\u001b[0m \u001b[0mstores\u001b[0m \u001b[1;32mis\u001b[0m \u001b[1;32mNone\u001b[0m\u001b[1;33m:\u001b[0m\u001b[1;33m\u001b[0m\u001b[1;33m\u001b[0m\u001b[0m\n\u001b[0;32m    313\u001b[0m             \u001b[1;31m# Maybe Yahoo returned old format, not encrypted\u001b[0m\u001b[1;33m\u001b[0m\u001b[1;33m\u001b[0m\u001b[0m\n",
      "\u001b[1;32mD:\\anaconda3\\lib\\site-packages\\yfinance\\data.py\u001b[0m in \u001b[0;36mdecrypt_cryptojs_aes_stores\u001b[1;34m(data, keys)\u001b[0m\n\u001b[0;32m    160\u001b[0m                 \u001b[1;32mpass\u001b[0m\u001b[1;33m\u001b[0m\u001b[1;33m\u001b[0m\u001b[0m\n\u001b[0;32m    161\u001b[0m         \u001b[1;32mif\u001b[0m \u001b[1;32mnot\u001b[0m \u001b[0msuccess\u001b[0m\u001b[1;33m:\u001b[0m\u001b[1;33m\u001b[0m\u001b[1;33m\u001b[0m\u001b[0m\n\u001b[1;32m--> 162\u001b[1;33m             \u001b[1;32mraise\u001b[0m \u001b[0mException\u001b[0m\u001b[1;33m(\u001b[0m\u001b[1;34m\"yfinance failed to decrypt Yahoo data response\"\u001b[0m\u001b[1;33m)\u001b[0m\u001b[1;33m\u001b[0m\u001b[1;33m\u001b[0m\u001b[0m\n\u001b[0m\u001b[0;32m    163\u001b[0m \u001b[1;33m\u001b[0m\u001b[0m\n\u001b[0;32m    164\u001b[0m     \u001b[0mdecoded_stores\u001b[0m \u001b[1;33m=\u001b[0m \u001b[0mjson\u001b[0m\u001b[1;33m.\u001b[0m\u001b[0mloads\u001b[0m\u001b[1;33m(\u001b[0m\u001b[0mplaintext\u001b[0m\u001b[1;33m)\u001b[0m\u001b[1;33m\u001b[0m\u001b[1;33m\u001b[0m\u001b[0m\n",
      "\u001b[1;31mException\u001b[0m: yfinance failed to decrypt Yahoo data response"
     ]
    }
   ],
   "source": [
    "msft.cashflow"
   ]
  },
  {
   "cell_type": "markdown",
   "id": "6341e2b1-f5ea-47a5-bfb7-5958c84239e6",
   "metadata": {},
   "source": [
    "### yahooquery"
   ]
  },
  {
   "cell_type": "code",
   "execution_count": 63,
   "id": "22b56dd1-b6bd-4c5a-8952-e4d9fc273781",
   "metadata": {},
   "outputs": [],
   "source": [
    "%%capture\n",
    "\n",
    "!pip install yahooquery"
   ]
  },
  {
   "cell_type": "code",
   "execution_count": 64,
   "id": "2ec0ac18-7c22-46a0-b85f-e627deef884a",
   "metadata": {},
   "outputs": [],
   "source": [
    "from yahooquery import Ticker"
   ]
  },
  {
   "cell_type": "code",
   "execution_count": 97,
   "id": "3ef970d0-11d9-45a1-8615-db48aa8d2012",
   "metadata": {},
   "outputs": [],
   "source": [
    "s32 = Ticker(\"S32.AX\")"
   ]
  },
  {
   "cell_type": "code",
   "execution_count": 95,
   "id": "2fb11bd7-9740-4732-8615-97c15d87e6c7",
   "metadata": {},
   "outputs": [
    {
     "data": {
      "text/html": [
       "<div>\n",
       "<style scoped>\n",
       "    .dataframe tbody tr th:only-of-type {\n",
       "        vertical-align: middle;\n",
       "    }\n",
       "\n",
       "    .dataframe tbody tr th {\n",
       "        vertical-align: top;\n",
       "    }\n",
       "\n",
       "    .dataframe thead th {\n",
       "        text-align: right;\n",
       "    }\n",
       "</style>\n",
       "<table border=\"1\" class=\"dataframe\">\n",
       "  <thead>\n",
       "    <tr style=\"text-align: right;\">\n",
       "      <th></th>\n",
       "      <th>incomeBeforeTax</th>\n",
       "      <th>depreciation</th>\n",
       "      <th>capitalExpenditures</th>\n",
       "    </tr>\n",
       "  </thead>\n",
       "  <tbody>\n",
       "    <tr>\n",
       "      <th>0</th>\n",
       "      <td>119103000000</td>\n",
       "      <td>2916000000</td>\n",
       "      <td>-3787000000</td>\n",
       "    </tr>\n",
       "    <tr>\n",
       "      <th>1</th>\n",
       "      <td>109207000000</td>\n",
       "      <td>2865000000</td>\n",
       "      <td>-3289000000</td>\n",
       "    </tr>\n",
       "    <tr>\n",
       "      <th>2</th>\n",
       "      <td>67091000000</td>\n",
       "      <td>2805000000</td>\n",
       "      <td>-2102000000</td>\n",
       "    </tr>\n",
       "    <tr>\n",
       "      <th>3</th>\n",
       "      <td>65737000000</td>\n",
       "      <td>2737000000</td>\n",
       "      <td>-2514000000</td>\n",
       "    </tr>\n",
       "  </tbody>\n",
       "</table>\n",
       "</div>"
      ],
      "text/plain": [
       "   incomeBeforeTax  depreciation  capitalExpenditures\n",
       "0     119103000000    2916000000          -3787000000\n",
       "1     109207000000    2865000000          -3289000000\n",
       "2      67091000000    2805000000          -2102000000\n",
       "3      65737000000    2737000000          -2514000000"
      ]
     },
     "execution_count": 95,
     "metadata": {},
     "output_type": "execute_result"
    }
   ],
   "source": [
    "df_full"
   ]
  },
  {
   "cell_type": "code",
   "execution_count": 125,
   "id": "8d477b94-026e-4dc5-928a-813774490859",
   "metadata": {},
   "outputs": [
    {
     "data": {
      "text/html": [
       "<div>\n",
       "<style scoped>\n",
       "    .dataframe tbody tr th:only-of-type {\n",
       "        vertical-align: middle;\n",
       "    }\n",
       "\n",
       "    .dataframe tbody tr th {\n",
       "        vertical-align: top;\n",
       "    }\n",
       "\n",
       "    .dataframe thead th {\n",
       "        text-align: right;\n",
       "    }\n",
       "</style>\n",
       "<table border=\"1\" class=\"dataframe\">\n",
       "  <thead>\n",
       "    <tr style=\"text-align: right;\">\n",
       "      <th></th>\n",
       "      <th>AccumulatedDepreciation</th>\n",
       "      <th>CapitalExpenditure</th>\n",
       "      <th>EBIT</th>\n",
       "      <th>ReconciledDepreciation</th>\n",
       "    </tr>\n",
       "    <tr>\n",
       "      <th>Year</th>\n",
       "      <th></th>\n",
       "      <th></th>\n",
       "      <th></th>\n",
       "      <th></th>\n",
       "    </tr>\n",
       "  </thead>\n",
       "  <tbody>\n",
       "    <tr>\n",
       "      <th>2019-06-30</th>\n",
       "      <td>-1.403700e+10</td>\n",
       "      <td>-756000000.0</td>\n",
       "      <td>9.850000e+08</td>\n",
       "      <td>757000000.0</td>\n",
       "    </tr>\n",
       "    <tr>\n",
       "      <th>2020-06-30</th>\n",
       "      <td>-1.474000e+10</td>\n",
       "      <td>-773000000.0</td>\n",
       "      <td>3.010000e+08</td>\n",
       "      <td>739000000.0</td>\n",
       "    </tr>\n",
       "    <tr>\n",
       "      <th>2021-06-30</th>\n",
       "      <td>-1.259300e+10</td>\n",
       "      <td>-591000000.0</td>\n",
       "      <td>1.740000e+08</td>\n",
       "      <td>720000000.0</td>\n",
       "    </tr>\n",
       "    <tr>\n",
       "      <th>2022-06-30</th>\n",
       "      <td>-1.312200e+10</td>\n",
       "      <td>-596000000.0</td>\n",
       "      <td>3.845000e+09</td>\n",
       "      <td>624000000.0</td>\n",
       "    </tr>\n",
       "  </tbody>\n",
       "</table>\n",
       "</div>"
      ],
      "text/plain": [
       "            AccumulatedDepreciation  CapitalExpenditure          EBIT  \\\n",
       "Year                                                                    \n",
       "2019-06-30            -1.403700e+10        -756000000.0  9.850000e+08   \n",
       "2020-06-30            -1.474000e+10        -773000000.0  3.010000e+08   \n",
       "2021-06-30            -1.259300e+10        -591000000.0  1.740000e+08   \n",
       "2022-06-30            -1.312200e+10        -596000000.0  3.845000e+09   \n",
       "\n",
       "            ReconciledDepreciation  \n",
       "Year                                \n",
       "2019-06-30             757000000.0  \n",
       "2020-06-30             739000000.0  \n",
       "2021-06-30             720000000.0  \n",
       "2022-06-30             624000000.0  "
      ]
     },
     "execution_count": 125,
     "metadata": {},
     "output_type": "execute_result"
    }
   ],
   "source": [
    "details = ['CapitalExpenditure', 'AccumulatedDepreciation',  'ReconciledDepreciation', 'EBIT']\n",
    "df_s32 = s32.get_financial_data(details, trailing=False).drop(columns=['periodType', 'currencyCode'])\n",
    "df_s32 = df_s32.rename(columns={'asOfDate' : 'Year'})\n",
    "df_s32.set_index('Year')"
   ]
  },
  {
   "cell_type": "code",
   "execution_count": 99,
   "id": "e3c3e120-0d5a-4ce7-bf43-55ef43206501",
   "metadata": {},
   "outputs": [
    {
     "data": {
      "text/plain": [
       "-9899250000.0"
      ]
     },
     "execution_count": 99,
     "metadata": {},
     "output_type": "execute_result"
    }
   ],
   "source": [
    "aapl.get_financial_data(details, trailing=False)['CapitalExpenditure'].mean()"
   ]
  },
  {
   "cell_type": "code",
   "execution_count": 115,
   "id": "20ed814b-3ac9-400f-abb7-da49f67d4b86",
   "metadata": {},
   "outputs": [
    {
     "data": {
      "text/plain": [
       "Index(['asOfDate', 'AccumulatedDepreciation', 'CapitalExpenditure', 'EBIT',\n",
       "       'ReconciledDepreciation'],\n",
       "      dtype='object')"
      ]
     },
     "execution_count": 115,
     "metadata": {},
     "output_type": "execute_result"
    }
   ],
   "source": [
    "df_s32.columns"
   ]
  },
  {
   "cell_type": "code",
   "execution_count": 122,
   "id": "8c0e922d-4c35-4561-9e26-a7ea1a005651",
   "metadata": {},
   "outputs": [
    {
     "data": {
      "text/html": [
       "<div>\n",
       "<style scoped>\n",
       "    .dataframe tbody tr th:only-of-type {\n",
       "        vertical-align: middle;\n",
       "    }\n",
       "\n",
       "    .dataframe tbody tr th {\n",
       "        vertical-align: top;\n",
       "    }\n",
       "\n",
       "    .dataframe thead th {\n",
       "        text-align: right;\n",
       "    }\n",
       "</style>\n",
       "<table border=\"1\" class=\"dataframe\">\n",
       "  <thead>\n",
       "    <tr style=\"text-align: right;\">\n",
       "      <th></th>\n",
       "      <th>asOfDate</th>\n",
       "      <th>AccumulatedDepreciation</th>\n",
       "      <th>CapitalExpenditure</th>\n",
       "      <th>Stuff</th>\n",
       "      <th>ReconciledDepreciation</th>\n",
       "    </tr>\n",
       "    <tr>\n",
       "      <th>symbol</th>\n",
       "      <th></th>\n",
       "      <th></th>\n",
       "      <th></th>\n",
       "      <th></th>\n",
       "      <th></th>\n",
       "    </tr>\n",
       "  </thead>\n",
       "  <tbody>\n",
       "    <tr>\n",
       "      <th>S32.AX</th>\n",
       "      <td>2019-06-30</td>\n",
       "      <td>-1.403700e+10</td>\n",
       "      <td>-756000000.0</td>\n",
       "      <td>9.850000e+08</td>\n",
       "      <td>757000000.0</td>\n",
       "    </tr>\n",
       "    <tr>\n",
       "      <th>S32.AX</th>\n",
       "      <td>2020-06-30</td>\n",
       "      <td>-1.474000e+10</td>\n",
       "      <td>-773000000.0</td>\n",
       "      <td>3.010000e+08</td>\n",
       "      <td>739000000.0</td>\n",
       "    </tr>\n",
       "    <tr>\n",
       "      <th>S32.AX</th>\n",
       "      <td>2021-06-30</td>\n",
       "      <td>-1.259300e+10</td>\n",
       "      <td>-591000000.0</td>\n",
       "      <td>1.740000e+08</td>\n",
       "      <td>720000000.0</td>\n",
       "    </tr>\n",
       "    <tr>\n",
       "      <th>S32.AX</th>\n",
       "      <td>2022-06-30</td>\n",
       "      <td>-1.312200e+10</td>\n",
       "      <td>-596000000.0</td>\n",
       "      <td>3.845000e+09</td>\n",
       "      <td>624000000.0</td>\n",
       "    </tr>\n",
       "  </tbody>\n",
       "</table>\n",
       "</div>"
      ],
      "text/plain": [
       "         asOfDate  AccumulatedDepreciation  CapitalExpenditure         Stuff  \\\n",
       "symbol                                                                         \n",
       "S32.AX 2019-06-30            -1.403700e+10        -756000000.0  9.850000e+08   \n",
       "S32.AX 2020-06-30            -1.474000e+10        -773000000.0  3.010000e+08   \n",
       "S32.AX 2021-06-30            -1.259300e+10        -591000000.0  1.740000e+08   \n",
       "S32.AX 2022-06-30            -1.312200e+10        -596000000.0  3.845000e+09   \n",
       "\n",
       "        ReconciledDepreciation  \n",
       "symbol                          \n",
       "S32.AX             757000000.0  \n",
       "S32.AX             739000000.0  \n",
       "S32.AX             720000000.0  \n",
       "S32.AX             624000000.0  "
      ]
     },
     "execution_count": 122,
     "metadata": {},
     "output_type": "execute_result"
    }
   ],
   "source": [
    "df_s32.rename({'EBIT' : 'Stuff'}, axis=1)"
   ]
  },
  {
   "cell_type": "markdown",
   "id": "0250be4b-d419-445c-b683-17d648f77b62",
   "metadata": {},
   "source": [
    "#### Discounted Cash Flow (DCF)"
   ]
  },
  {
   "cell_type": "code",
   "execution_count": 321,
   "id": "e1f12bb6-6cfb-48f8-b37c-d7abf3b5b97d",
   "metadata": {},
   "outputs": [],
   "source": [
    "#To the determination of an intrinsic stock value"
   ]
  },
  {
   "cell_type": "markdown",
   "id": "9f6af658-40cf-4bb1-951c-da92bac93254",
   "metadata": {
    "jp-MarkdownHeadingCollapsed": true,
    "tags": []
   },
   "source": [
    "##### Beta risk factor"
   ]
  },
  {
   "cell_type": "code",
   "execution_count": 317,
   "id": "b281c574-f320-42c4-9abe-0f7747e3e152",
   "metadata": {},
   "outputs": [],
   "source": [
    "from sklearn.linear_model import LinearRegression"
   ]
  },
  {
   "cell_type": "code",
   "execution_count": 318,
   "id": "596e343b-53ae-497c-b238-4689916d71e4",
   "metadata": {},
   "outputs": [],
   "source": [
    "def beta_risk(stock, stock_name, span='1y', typed=False):\n",
    "    \"\"\"\n",
    "    Requires packages yahooquery and sklearn.linear_model.\n",
    "    Returns the beta risk facotr of the stock against the S&P/ASX 200 index. \n",
    "    Span kwarg based on yahooquery period kwargs. See: https://yahooquery.dpguthrie.com/guide/ticker/historical/\n",
    "    \"\"\"\n",
    "    \n",
    "    data = Ticker([stock, '^AXJO'])\n",
    "    df = data.history(period=span).unstack(level=0)\n",
    "    df_close = df['adjclose'].pct_change().dropna()\n",
    "    \n",
    "    X = np.array(df_close['^AXJO']).reshape((-1,1))\n",
    "    y = np.array(df_close[stock])\n",
    "        \n",
    "    model = LinearRegression().fit(X, y)\n",
    "    \n",
    "    if typed == True:\n",
    "        print(stock_name, 'Beta: ', model.coef_[0])\n",
    "        \n",
    "    return model.coef_[0]"
   ]
  },
  {
   "cell_type": "markdown",
   "id": "818a0f71-9359-44c7-9125-718311585adf",
   "metadata": {
    "jp-MarkdownHeadingCollapsed": true,
    "tags": []
   },
   "source": [
    "##### WACC (discount rate)"
   ]
  },
  {
   "cell_type": "code",
   "execution_count": 319,
   "id": "faf20cb5-e0f6-49d1-998c-253a4ee5e420",
   "metadata": {},
   "outputs": [],
   "source": [
    "# WACC = E / (D + E) * (r_f + Beta * (r_m - r_f)) + D / (D + E) * i * (1-t)\n",
    "\n",
    "#Cost of equity\n",
    "MARKET_RETURN = 0.132 #Source: https://files.marketindex.com.au/files/statistics/historical-returns-infographic-2022.pdf\n",
    "RISK_FREE_RATE = float(Ticker('^IRX').history(period='1d')['close']) / 100 #Returns previous day's close price of 13 week US treasury bond\n",
    "\n",
    "#Cost of debt\n",
    "COD = 0.1357 #Source: https://www.gurufocus.com/term/wacc/ASX:S32/WACC-/South32-Ltd"
   ]
  },
  {
   "cell_type": "code",
   "execution_count": 311,
   "id": "1d969016-d21f-44bf-8698-f235f7c5d7ac",
   "metadata": {},
   "outputs": [],
   "source": [
    "def wacc(stock, stock_name, span='1y'):\n",
    "    MARKET_RETURN = 0.132 #Source: https://files.marketindex.com.au/files/statistics/historical-returns-infographic-2022.pdf\n",
    "    RISK_FREE_RATE = float(Ticker('^IRX').history(period='1d')['close']) / 100 #Returns previous day's close price of 13 week US treasury bond\n",
    "    COD = 0.1357 #Source: https://www.gurufocus.com/term/wacc/ASX:S32/WACC-/South32-Ltd\n",
    "    \n",
    "    data = Ticker(stock, trailing=False)   \n",
    "    stock_finance = data.get_financial_data(['StockholdersEquity', 'TotalDebt'], trailing=False)\n",
    "    \n",
    "    Equity = stock_finance['StockholdersEquity'][-1]\n",
    "    Debt = stock_finance['TotalDebt'][-1]\n",
    "    \n",
    "    beta = beta_risk(stock, stock_name, span)\n",
    "    \n",
    "    weight_average_cost_of_capital = Equity / (Debt + Equity)  * (RISK_FREE_RATE + beta * (MARKET_RETURN - RISK_FREE_RATE)) + Debt / (Debt + Equity) * COD\n",
    "    return weight_average_cost_of_capital"
   ]
  },
  {
   "cell_type": "markdown",
   "id": "cf99e902-4d81-43f5-b82d-8e79d804e8f3",
   "metadata": {
    "jp-MarkdownHeadingCollapsed": true,
    "tags": []
   },
   "source": [
    "### Other"
   ]
  },
  {
   "cell_type": "code",
   "execution_count": 309,
   "id": "6daadc31-ffa4-4159-8e4e-83dcc4fe4a58",
   "metadata": {},
   "outputs": [
    {
     "data": {
      "text/html": [
       "<div>\n",
       "<style scoped>\n",
       "    .dataframe tbody tr th:only-of-type {\n",
       "        vertical-align: middle;\n",
       "    }\n",
       "\n",
       "    .dataframe tbody tr th {\n",
       "        vertical-align: top;\n",
       "    }\n",
       "\n",
       "    .dataframe thead tr th {\n",
       "        text-align: left;\n",
       "    }\n",
       "\n",
       "    .dataframe thead tr:last-of-type th {\n",
       "        text-align: right;\n",
       "    }\n",
       "</style>\n",
       "<table border=\"1\" class=\"dataframe\">\n",
       "  <thead>\n",
       "    <tr>\n",
       "      <th></th>\n",
       "      <th colspan=\"2\" halign=\"left\">open</th>\n",
       "      <th colspan=\"2\" halign=\"left\">high</th>\n",
       "      <th colspan=\"2\" halign=\"left\">low</th>\n",
       "      <th colspan=\"2\" halign=\"left\">close</th>\n",
       "      <th colspan=\"2\" halign=\"left\">volume</th>\n",
       "      <th colspan=\"2\" halign=\"left\">adjclose</th>\n",
       "      <th colspan=\"2\" halign=\"left\">dividends</th>\n",
       "    </tr>\n",
       "    <tr>\n",
       "      <th>symbol</th>\n",
       "      <th>S32.AX</th>\n",
       "      <th>^IRX</th>\n",
       "      <th>S32.AX</th>\n",
       "      <th>^IRX</th>\n",
       "      <th>S32.AX</th>\n",
       "      <th>^IRX</th>\n",
       "      <th>S32.AX</th>\n",
       "      <th>^IRX</th>\n",
       "      <th>S32.AX</th>\n",
       "      <th>^IRX</th>\n",
       "      <th>S32.AX</th>\n",
       "      <th>^IRX</th>\n",
       "      <th>S32.AX</th>\n",
       "      <th>^IRX</th>\n",
       "    </tr>\n",
       "    <tr>\n",
       "      <th>date</th>\n",
       "      <th></th>\n",
       "      <th></th>\n",
       "      <th></th>\n",
       "      <th></th>\n",
       "      <th></th>\n",
       "      <th></th>\n",
       "      <th></th>\n",
       "      <th></th>\n",
       "      <th></th>\n",
       "      <th></th>\n",
       "      <th></th>\n",
       "      <th></th>\n",
       "      <th></th>\n",
       "      <th></th>\n",
       "    </tr>\n",
       "  </thead>\n",
       "  <tbody>\n",
       "    <tr>\n",
       "      <th>2022-03-03</th>\n",
       "      <td>5.15</td>\n",
       "      <td>0.310</td>\n",
       "      <td>5.17</td>\n",
       "      <td>0.335</td>\n",
       "      <td>5.055</td>\n",
       "      <td>0.298</td>\n",
       "      <td>5.12</td>\n",
       "      <td>0.335</td>\n",
       "      <td>29060593.0</td>\n",
       "      <td>0.0</td>\n",
       "      <td>4.961215</td>\n",
       "      <td>0.335</td>\n",
       "      <td>0.0</td>\n",
       "      <td>0.0</td>\n",
       "    </tr>\n",
       "    <tr>\n",
       "      <th>2022-03-04</th>\n",
       "      <td>5.07</td>\n",
       "      <td>0.325</td>\n",
       "      <td>5.17</td>\n",
       "      <td>0.325</td>\n",
       "      <td>5.060</td>\n",
       "      <td>0.295</td>\n",
       "      <td>5.17</td>\n",
       "      <td>0.305</td>\n",
       "      <td>27199383.0</td>\n",
       "      <td>0.0</td>\n",
       "      <td>5.009665</td>\n",
       "      <td>0.305</td>\n",
       "      <td>0.0</td>\n",
       "      <td>0.0</td>\n",
       "    </tr>\n",
       "    <tr>\n",
       "      <th>2022-03-07</th>\n",
       "      <td>5.35</td>\n",
       "      <td>0.315</td>\n",
       "      <td>5.44</td>\n",
       "      <td>0.320</td>\n",
       "      <td>5.260</td>\n",
       "      <td>0.295</td>\n",
       "      <td>5.36</td>\n",
       "      <td>0.305</td>\n",
       "      <td>28388685.0</td>\n",
       "      <td>0.0</td>\n",
       "      <td>5.193773</td>\n",
       "      <td>0.305</td>\n",
       "      <td>0.0</td>\n",
       "      <td>0.0</td>\n",
       "    </tr>\n",
       "    <tr>\n",
       "      <th>2022-03-08</th>\n",
       "      <td>5.27</td>\n",
       "      <td>0.363</td>\n",
       "      <td>5.29</td>\n",
       "      <td>0.363</td>\n",
       "      <td>4.990</td>\n",
       "      <td>0.350</td>\n",
       "      <td>5.01</td>\n",
       "      <td>0.360</td>\n",
       "      <td>33617915.0</td>\n",
       "      <td>0.0</td>\n",
       "      <td>4.854627</td>\n",
       "      <td>0.360</td>\n",
       "      <td>0.0</td>\n",
       "      <td>0.0</td>\n",
       "    </tr>\n",
       "    <tr>\n",
       "      <th>2022-03-09</th>\n",
       "      <td>4.90</td>\n",
       "      <td>0.360</td>\n",
       "      <td>5.02</td>\n",
       "      <td>0.370</td>\n",
       "      <td>4.880</td>\n",
       "      <td>0.348</td>\n",
       "      <td>4.93</td>\n",
       "      <td>0.370</td>\n",
       "      <td>33859093.0</td>\n",
       "      <td>0.0</td>\n",
       "      <td>4.777108</td>\n",
       "      <td>0.370</td>\n",
       "      <td>0.0</td>\n",
       "      <td>0.0</td>\n",
       "    </tr>\n",
       "    <tr>\n",
       "      <th>...</th>\n",
       "      <td>...</td>\n",
       "      <td>...</td>\n",
       "      <td>...</td>\n",
       "      <td>...</td>\n",
       "      <td>...</td>\n",
       "      <td>...</td>\n",
       "      <td>...</td>\n",
       "      <td>...</td>\n",
       "      <td>...</td>\n",
       "      <td>...</td>\n",
       "      <td>...</td>\n",
       "      <td>...</td>\n",
       "      <td>...</td>\n",
       "      <td>...</td>\n",
       "    </tr>\n",
       "    <tr>\n",
       "      <th>2023-02-28</th>\n",
       "      <td>4.38</td>\n",
       "      <td>4.720</td>\n",
       "      <td>4.40</td>\n",
       "      <td>4.730</td>\n",
       "      <td>4.310</td>\n",
       "      <td>4.710</td>\n",
       "      <td>4.34</td>\n",
       "      <td>4.710</td>\n",
       "      <td>20308818.0</td>\n",
       "      <td>0.0</td>\n",
       "      <td>4.340000</td>\n",
       "      <td>4.710</td>\n",
       "      <td>0.0</td>\n",
       "      <td>0.0</td>\n",
       "    </tr>\n",
       "    <tr>\n",
       "      <th>2023-03-01</th>\n",
       "      <td>4.33</td>\n",
       "      <td>4.715</td>\n",
       "      <td>4.49</td>\n",
       "      <td>4.735</td>\n",
       "      <td>4.330</td>\n",
       "      <td>4.700</td>\n",
       "      <td>4.47</td>\n",
       "      <td>4.725</td>\n",
       "      <td>14456219.0</td>\n",
       "      <td>0.0</td>\n",
       "      <td>4.470000</td>\n",
       "      <td>4.725</td>\n",
       "      <td>0.0</td>\n",
       "      <td>0.0</td>\n",
       "    </tr>\n",
       "    <tr>\n",
       "      <th>2023-03-02</th>\n",
       "      <td>4.60</td>\n",
       "      <td>4.720</td>\n",
       "      <td>4.72</td>\n",
       "      <td>4.733</td>\n",
       "      <td>4.550</td>\n",
       "      <td>4.713</td>\n",
       "      <td>4.70</td>\n",
       "      <td>4.723</td>\n",
       "      <td>46319078.0</td>\n",
       "      <td>0.0</td>\n",
       "      <td>4.700000</td>\n",
       "      <td>4.723</td>\n",
       "      <td>0.0</td>\n",
       "      <td>0.0</td>\n",
       "    </tr>\n",
       "    <tr>\n",
       "      <th>2023-03-03</th>\n",
       "      <td>4.67</td>\n",
       "      <td>NaN</td>\n",
       "      <td>4.76</td>\n",
       "      <td>NaN</td>\n",
       "      <td>4.670</td>\n",
       "      <td>NaN</td>\n",
       "      <td>4.76</td>\n",
       "      <td>NaN</td>\n",
       "      <td>14323218.0</td>\n",
       "      <td>NaN</td>\n",
       "      <td>4.760000</td>\n",
       "      <td>NaN</td>\n",
       "      <td>0.0</td>\n",
       "      <td>NaN</td>\n",
       "    </tr>\n",
       "    <tr>\n",
       "      <th>2023-03-04</th>\n",
       "      <td>4.67</td>\n",
       "      <td>4.708</td>\n",
       "      <td>4.76</td>\n",
       "      <td>4.728</td>\n",
       "      <td>4.670</td>\n",
       "      <td>4.705</td>\n",
       "      <td>4.76</td>\n",
       "      <td>4.718</td>\n",
       "      <td>14272921.0</td>\n",
       "      <td>0.0</td>\n",
       "      <td>4.760000</td>\n",
       "      <td>4.718</td>\n",
       "      <td>0.0</td>\n",
       "      <td>0.0</td>\n",
       "    </tr>\n",
       "  </tbody>\n",
       "</table>\n",
       "<p>260 rows × 14 columns</p>\n",
       "</div>"
      ],
      "text/plain": [
       "             open          high           low         close         \\\n",
       "symbol     S32.AX   ^IRX S32.AX   ^IRX S32.AX   ^IRX S32.AX   ^IRX   \n",
       "date                                                                 \n",
       "2022-03-03   5.15  0.310   5.17  0.335  5.055  0.298   5.12  0.335   \n",
       "2022-03-04   5.07  0.325   5.17  0.325  5.060  0.295   5.17  0.305   \n",
       "2022-03-07   5.35  0.315   5.44  0.320  5.260  0.295   5.36  0.305   \n",
       "2022-03-08   5.27  0.363   5.29  0.363  4.990  0.350   5.01  0.360   \n",
       "2022-03-09   4.90  0.360   5.02  0.370  4.880  0.348   4.93  0.370   \n",
       "...           ...    ...    ...    ...    ...    ...    ...    ...   \n",
       "2023-02-28   4.38  4.720   4.40  4.730  4.310  4.710   4.34  4.710   \n",
       "2023-03-01   4.33  4.715   4.49  4.735  4.330  4.700   4.47  4.725   \n",
       "2023-03-02   4.60  4.720   4.72  4.733  4.550  4.713   4.70  4.723   \n",
       "2023-03-03   4.67    NaN   4.76    NaN  4.670    NaN   4.76    NaN   \n",
       "2023-03-04   4.67  4.708   4.76  4.728  4.670  4.705   4.76  4.718   \n",
       "\n",
       "                volume       adjclose        dividends       \n",
       "symbol          S32.AX ^IRX    S32.AX   ^IRX    S32.AX ^IRX  \n",
       "date                                                         \n",
       "2022-03-03  29060593.0  0.0  4.961215  0.335       0.0  0.0  \n",
       "2022-03-04  27199383.0  0.0  5.009665  0.305       0.0  0.0  \n",
       "2022-03-07  28388685.0  0.0  5.193773  0.305       0.0  0.0  \n",
       "2022-03-08  33617915.0  0.0  4.854627  0.360       0.0  0.0  \n",
       "2022-03-09  33859093.0  0.0  4.777108  0.370       0.0  0.0  \n",
       "...                ...  ...       ...    ...       ...  ...  \n",
       "2023-02-28  20308818.0  0.0  4.340000  4.710       0.0  0.0  \n",
       "2023-03-01  14456219.0  0.0  4.470000  4.725       0.0  0.0  \n",
       "2023-03-02  46319078.0  0.0  4.700000  4.723       0.0  0.0  \n",
       "2023-03-03  14323218.0  NaN  4.760000    NaN       0.0  NaN  \n",
       "2023-03-04  14272921.0  0.0  4.760000  4.718       0.0  0.0  \n",
       "\n",
       "[260 rows x 14 columns]"
      ]
     },
     "execution_count": 309,
     "metadata": {},
     "output_type": "execute_result"
    }
   ],
   "source": [
    "data = Ticker(['S32.AX', '^IRX'], trailing=False)\n",
    "df = data.history(period='1y').unstack(level=0)\n",
    "df"
   ]
  },
  {
   "cell_type": "code",
   "execution_count": null,
   "id": "6d734cb3-a685-484d-a7e2-6391bc4eaf31",
   "metadata": {},
   "outputs": [],
   "source": []
  },
  {
   "cell_type": "code",
   "execution_count": 281,
   "id": "dddf6d1a-0573-4211-bb20-4b9013363a64",
   "metadata": {},
   "outputs": [],
   "source": [
    "data = Ticker(['AAPL', '^GSPC'])\n",
    "df = data.history(period='5y', interval='1mo').unstack(level=0)\n",
    "df_close = df['adjclose'].pct_change().dropna()\n",
    "X = np.array(df_close['^GSPC']).reshape((-1,1))\n",
    "y = np.array(df_close['AAPL']).reshape((-1,1))"
   ]
  },
  {
   "cell_type": "code",
   "execution_count": 282,
   "id": "c2185f68-c08c-4c9d-b0f4-797132067cab",
   "metadata": {},
   "outputs": [],
   "source": [
    "model = LinearRegression().fit(X, y)"
   ]
  },
  {
   "cell_type": "code",
   "execution_count": 283,
   "id": "457e6a7a-1eee-441c-a6ec-08970a7fb04b",
   "metadata": {},
   "outputs": [
    {
     "data": {
      "image/png": "[encoded data removed]",
      "text/plain": [
       "<Figure size 640x480 with 1 Axes>"
      ]
     },
     "metadata": {},
     "output_type": "display_data"
    }
   ],
   "source": [
    "plt.scatter(X, y)\n",
    "plt.plot(X, model.intercept_ + X * model.coef_, color = 'red')\n",
    "plt.ylabel('Apple')\n",
    "plt.xlabel('Market index')\n",
    "plt.title('Beta value: {}'.format(model.coef_[0][0]))\n",
    "plt.show()"
   ]
  }
 ],
 "metadata": {
  "kernelspec": {
   "display_name": "Python 3 (ipykernel)",
   "language": "python",
   "name": "python3"
  },
  "language_info": {
   "codemirror_mode": {
    "name": "ipython",
    "version": 3
   },
   "file_extension": ".py",
   "mimetype": "text/x-python",
   "name": "python",
   "nbconvert_exporter": "python",
   "pygments_lexer": "ipython3",
   "version": "3.9.13"
  }
 },
 "nbformat": 4,
 "nbformat_minor": 5
}
